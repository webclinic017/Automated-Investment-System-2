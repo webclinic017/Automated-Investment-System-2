{
 "cells": [
  {
   "cell_type": "code",
   "execution_count": 1,
   "metadata": {},
   "outputs": [
    {
     "name": "stderr",
     "output_type": "stream",
     "text": [
      "/venvs/py35/lib/python3.5/site-packages/ipykernel_launcher.py:17: ZiplineDeprecationWarning: PsychSignal datasets stopped updating on Quantopian on May 1, 2020.\n",
      "PsychSignal data prior to May 2020 is still available for use on Quantopian;\n",
      "however, the dataset has stopped updating. For more information see:\n",
      "https://www.quantopian.com/posts/psychsignal-trader-mood-update\n",
      "\n"
     ]
    }
   ],
   "source": [
    "import pandas as pd\n",
    "import numpy as np\n",
    "from quantopian.pipeline import Pipeline\n",
    "from quantopian.research import run_pipeline\n",
    "from quantopian.pipeline.factors import Returns\n",
    "from quantopian.research import prices, symbols\n",
    "from quantopian.research import returns, symbols\n",
    "from quantopian.pipeline.data.factset import Fundamentals\n",
    "from quantopian.pipeline.data import EquityPricing\n",
    "from quantopian.pipeline.factors import SimpleMovingAverage\n",
    "from quantopian.pipeline.data.factset import EquityMetadata\n",
    "from quantopian.pipeline.filters import StaticAssets\n",
    "import alphalens as al\n",
    "from quantopian.pipeline.filters import QTradableStocksUS\n",
    "from quantopian.pipeline.data.sentdex import sentiment\n",
    "from quantopian.pipeline.domain import US_EQUITIES\n",
    "from quantopian.pipeline.data.psychsignal import stocktwits\n",
    "from quantopian.pipeline.domain import US_EQUITIES\n",
    "from quantopian.pipeline.data import USEquityPricing\n",
    "from quantopian.pipeline.domain import CN_EQUITIES"
   ]
  },
  {
   "cell_type": "markdown",
   "metadata": {},
   "source": [
    "#### Dataset\n",
    "Coverage: All supported countries on Quantopian.    \n",
    "Data Frequency: Daily   \n",
    "Update Frequency: Daily (updated overnight after each trading day).   \n",
    "Timespan: 2004-01-01 to present.   \n",
    "take US and China as example"
   ]
  },
  {
   "cell_type": "code",
   "execution_count": 2,
   "metadata": {},
   "outputs": [],
   "source": [
    "from quantopian.pipeline import CustomFilter\n",
    "class SidInList(CustomFilter):\n",
    "    \"\"\"\n",
    "    Filter returns True for any SID included in parameter tuple passed at creation.\n",
    "    \"\"\"    \n",
    "    inputs = []\n",
    "    window_length = 1\n",
    "    params = ('sid_list',)\n",
    "\n",
    "    def compute(self, today, assets, out, sid_list):\n",
    "        out[:] = np.in1d(assets, sid_list)  "
   ]
  },
  {
   "cell_type": "code",
   "execution_count": 3,
   "metadata": {},
   "outputs": [
    {
     "data": {
      "application/vnd.jupyter.widget-view+json": {
       "model_id": "",
       "version_major": 2,
       "version_minor": 0
      },
      "text/plain": []
     },
     "metadata": {},
     "output_type": "display_data"
    },
    {
     "data": {
      "text/html": [
       "<b>Pipeline Execution Time:</b> 2.13 Seconds"
      ],
      "text/plain": [
       "<IPython.core.display.HTML object>"
      ]
     },
     "metadata": {},
     "output_type": "display_data"
    },
    {
     "data": {
      "text/html": [
       "<div>\n",
       "<table border=\"1\" class=\"dataframe\">\n",
       "  <thead>\n",
       "    <tr style=\"text-align: right;\">\n",
       "      <th></th>\n",
       "      <th></th>\n",
       "      <th>is_ETF</th>\n",
       "      <th>returns</th>\n",
       "    </tr>\n",
       "  </thead>\n",
       "  <tbody>\n",
       "    <tr>\n",
       "      <th rowspan=\"5\" valign=\"top\">2015-01-02 00:00:00+00:00</th>\n",
       "      <th>Equity(2 [HWM])</th>\n",
       "      <td>False</td>\n",
       "      <td>-0.003155</td>\n",
       "    </tr>\n",
       "    <tr>\n",
       "      <th>Equity(21 [AAME])</th>\n",
       "      <td>False</td>\n",
       "      <td>0.025445</td>\n",
       "    </tr>\n",
       "    <tr>\n",
       "      <th>Equity(24 [AAPL])</th>\n",
       "      <td>False</td>\n",
       "      <td>-0.019098</td>\n",
       "    </tr>\n",
       "    <tr>\n",
       "      <th>Equity(25 [HWM_PR])</th>\n",
       "      <td>False</td>\n",
       "      <td>-0.015281</td>\n",
       "    </tr>\n",
       "    <tr>\n",
       "      <th>Equity(31 [ABAX])</th>\n",
       "      <td>False</td>\n",
       "      <td>-0.020207</td>\n",
       "    </tr>\n",
       "  </tbody>\n",
       "</table>\n",
       "</div>"
      ],
      "text/plain": [
       "                                              is_ETF   returns\n",
       "2015-01-02 00:00:00+00:00 Equity(2 [HWM])      False -0.003155\n",
       "                          Equity(21 [AAME])    False  0.025445\n",
       "                          Equity(24 [AAPL])    False -0.019098\n",
       "                          Equity(25 [HWM_PR])  False -0.015281\n",
       "                          Equity(31 [ABAX])    False -0.020207"
      ]
     },
     "execution_count": 3,
     "metadata": {},
     "output_type": "execute_result"
    }
   ],
   "source": [
    "ret = Returns(window_length=2)\n",
    "security_type = EquityMetadata.security_type.latest\n",
    "\n",
    "pipe = Pipeline(\n",
    "    \n",
    "    columns={\n",
    "        'returns': ret,\n",
    "        'is_ETF': security_type.eq('ETF_ETF')\n",
    "    }\n",
    ")\n",
    "df = run_pipeline(pipe, '2015-01-01', '2015-01-01')\n",
    "df.head()\n"
   ]
  },
  {
   "cell_type": "code",
   "execution_count": 4,
   "metadata": {},
   "outputs": [],
   "source": [
    "df=pd.DataFrame(df.values,index=df.index.droplevel(0),columns=df.columns)\n",
    "df=df.reset_index()\n",
    "df=df.set_index(\"is_ETF\")\n",
    "country=df.loc[True]['index'].values.tolist()"
   ]
  },
  {
   "cell_type": "code",
   "execution_count": null,
   "metadata": {},
   "outputs": [],
   "source": [
    "#Query data and calculate momentum\n",
    "price = pd.DataFrame()\n",
    "ret = pd.DataFrame()\n",
    "momentum = pd.DataFrame()\n",
    "sentimentscore=pd.DataFrame()\n",
    "sidlist=[]\n",
    "for i in country:\n",
    "    if prices(assets=symbols(i),start='2015-01-01',end='2015-01-02')[0]!=np.NaN:\n",
    "        #price[i] = prices(assets=symbols(i),start=period_start,end=period_end)\n",
    "        sidlist.append(i.sid)\n",
    "        # The length of rolling window is 10 months\n",
    "        #momentum[i] = price[i].rolling(200).mean()\n",
    "    else:\n",
    "        country.remove(i)\n",
    "        next\n",
    "sidlist=tuple(sidlist)\n",
    "#momentum=momentum[210:]\n",
    "#momentum=momentum.dropna(axis='columns')\n",
    "#momentum.plot(title='10-month SMA Momentum')\n",
    "period_start = '2010-01-01'\n",
    "period_end = '2020-01-01'"
   ]
  },
  {
   "cell_type": "code",
   "execution_count": null,
   "metadata": {},
   "outputs": [],
   "source": [
    "# Pipeline definition\n",
    "def  make_pipeline():    \n",
    " \n",
    "    include_filter = SidInList(sid_list = sidlist) # SID for APPL and SPY\n",
    "\n",
    "    sentiment_score = SimpleMovingAverage(\n",
    "        inputs=[stocktwits.bull_minus_bear],\n",
    "        window_length=210,\n",
    "    )\n",
    "\n",
    "    return Pipeline(\n",
    "        columns={\n",
    "            'returns_1d': Returns(window_length=2),\n",
    "            'returns_1w': Returns(window_length=6),\n",
    "            'returns_1m': Returns(window_length=22),\n",
    "            'sma_10m': sentiment_score,\n",
    "        },\n",
    "        screen=include_filter\n",
    "    )"
   ]
  },
  {
   "cell_type": "code",
   "execution_count": null,
   "metadata": {},
   "outputs": [],
   "source": [
    "# Execute pipeline over evaluation period\n",
    "pipeline_output = run_pipeline(\n",
    "    make_pipeline(),\n",
    "    start_date=period_start,\n",
    "    end_date=period_end\n",
    ")"
   ]
  },
  {
   "cell_type": "code",
   "execution_count": null,
   "metadata": {},
   "outputs": [],
   "source": [
    "pipeline_output.head()"
   ]
  },
  {
   "cell_type": "code",
   "execution_count": null,
   "metadata": {},
   "outputs": [],
   "source": [
    "# Import prices function\n",
    "from quantopian.research import prices\n",
    "\n",
    "# Get list of unique assets from the pipeline output\n",
    "asset_list = pipeline_output.index.get_level_values(1).unique() \n",
    "\n",
    "# Query pricing data for all assets present during\n",
    "# evaluation period\n",
    "asset_prices = prices(\n",
    "    asset_list,\n",
    "    start=period_start,\n",
    "    end=period_end\n",
    ")"
   ]
  },
  {
   "cell_type": "code",
   "execution_count": null,
   "metadata": {},
   "outputs": [],
   "source": [
    "# Import Alphalens\n",
    "import alphalens as al\n",
    "\n",
    "# Get asset forward returns and quantile classification\n",
    "# based on sentiment scores\n",
    "factor_data = al.utils.get_clean_factor_and_forward_returns(\n",
    "    factor=pipeline_output['sma_10m'],\n",
    "    prices=asset_prices,\n",
    "    quantiles=5,\n",
    "    periods=(1,5,10,),\n",
    "    max_loss=0.4,\n",
    ")\n",
    "\n",
    "# Display first 5 rows\n",
    "factor_data.head(5)"
   ]
  },
  {
   "cell_type": "code",
   "execution_count": null,
   "metadata": {
    "scrolled": false
   },
   "outputs": [],
   "source": [
    "import alphalens\n",
    "alphalens.tears.create_full_tear_sheet(factor_data, by_group=False);"
   ]
  },
  {
   "cell_type": "code",
   "execution_count": null,
   "metadata": {},
   "outputs": [],
   "source": []
  }
 ],
 "metadata": {
  "kernelspec": {
   "display_name": "Python 3.5",
   "language": "python",
   "name": "py35"
  },
  "language_info": {
   "codemirror_mode": {
    "name": "ipython",
    "version": 3
   },
   "file_extension": ".py",
   "mimetype": "text/x-python",
   "name": "python",
   "nbconvert_exporter": "python",
   "pygments_lexer": "ipython3",
   "version": "3.5.9"
  }
 },
 "nbformat": 4,
 "nbformat_minor": 2
}
